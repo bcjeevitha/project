{
 "cells": [
  {
   "cell_type": "code",
   "execution_count": 1,
   "metadata": {
    "collapsed": true
   },
   "outputs": [],
   "source": [
    "import pandas as pd\n",
    "import numpy as np\n",
    "import matplotlib.pyplot as plt  \n"
   ]
  },
  {
   "cell_type": "code",
   "execution_count": 2,
   "metadata": {
    "collapsed": true
   },
   "outputs": [],
   "source": [
    "col = pd.read_csv(r'C:\\Users\\shara\\Desktop\\data.csv')"
   ]
  },
  {
   "cell_type": "code",
   "execution_count": 3,
   "metadata": {
    "collapsed": false
   },
   "outputs": [
    {
     "data": {
      "text/plain": [
       "0    Yes\n",
       "1     No\n",
       "2    Yes\n",
       "3    Yes\n",
       "4    Yes\n",
       "Name: tech_company, dtype: object"
      ]
     },
     "execution_count": 3,
     "metadata": {},
     "output_type": "execute_result"
    }
   ],
   "source": [
    "col.iloc[:,11].head()"
   ]
  },
  {
   "cell_type": "code",
   "execution_count": 7,
   "metadata": {
    "collapsed": false
   },
   "outputs": [
    {
     "name": "stdout",
     "output_type": "stream",
     "text": [
      "{'Yes': 1031, 'No': 228}\n"
     ]
    }
   ],
   "source": [
    " tech_company_list=list(col.iloc[:,11])\n",
    " tech_company=dict()\n",
    "for i in  tech_company_list:\n",
    "    if i not in  tech_company:\n",
    "         tech_company[i]=1\n",
    "    else:\n",
    "         tech_company[i]= tech_company[i]+1\n",
    "\n",
    "print( tech_company)"
   ]
  },
  {
   "cell_type": "code",
   "execution_count": 9,
   "metadata": {
    "collapsed": false
   },
   "outputs": [
    {
     "data": {
      "image/png": "[encoded data removed]",
      "text/plain": [
       "<matplotlib.figure.Figure at 0x21a44ea2be0>"
      ]
     },
     "metadata": {},
     "output_type": "display_data"
    }
   ],
   "source": [
    "activities=list(tech_company.keys())\n",
    "slices=list(tech_company.values())\n",
    "cols=['c','m']\n",
    "fig_size = plt.rcParams[\"figure.figsize\"]\n",
    "fig_size[0]=3\n",
    "fig_size[1]=3\n",
    "plt.rcParams[\"figure.figsize\"] = fig_size     \n",
    "                 \n",
    "plt.pie(slices,labels=None,colors=cols,startangle=90,shadow=True)\n",
    "plt.legend(tech_company.items())\n",
    "plt.title('tech_company')\n",
    "plt.show()"
   ]
  },
  {
   "cell_type": "code",
   "execution_count": 10,
   "metadata": {
    "collapsed": false
   },
   "outputs": [
    {
     "data": {
      "text/plain": [
       "0           Yes\n",
       "1    Don't know\n",
       "2            No\n",
       "3            No\n",
       "4           Yes\n",
       "Name: benefits, dtype: object"
      ]
     },
     "execution_count": 10,
     "metadata": {},
     "output_type": "execute_result"
    }
   ],
   "source": [
    "col.iloc[:,12].head()"
   ]
  },
  {
   "cell_type": "code",
   "execution_count": 13,
   "metadata": {
    "collapsed": false
   },
   "outputs": [
    {
     "name": "stdout",
     "output_type": "stream",
     "text": [
      "{'Yes': 477, \"Don't know\": 408, 'No': 374}\n"
     ]
    }
   ],
   "source": [
    "  benefits_list=list(col.iloc[:,12])\n",
    "  benefits=dict()\n",
    "for i in   benefits_list:\n",
    "    if i not in   benefits:\n",
    "          benefits[i]=1\n",
    "    else:\n",
    "          benefits[i]=  benefits[i]+1\n",
    "\n",
    "print(benefits)"
   ]
  },
  {
   "cell_type": "code",
   "execution_count": 14,
   "metadata": {
    "collapsed": false
   },
   "outputs": [
    {
     "data": {
      "image/png": "[encoded data removed]",
      "text/plain": [
       "<matplotlib.figure.Figure at 0x21a450efa20>"
      ]
     },
     "metadata": {},
     "output_type": "display_data"
    }
   ],
   "source": [
    "activities=list(benefits.keys())\n",
    "slices=list(benefits.values())\n",
    "cols=['c','m','r']\n",
    "fig_size = plt.rcParams[\"figure.figsize\"]\n",
    "fig_size[0]=3\n",
    "fig_size[1]=3\n",
    "plt.rcParams[\"figure.figsize\"] = fig_size     \n",
    "                 \n",
    "plt.pie(slices,labels=None,colors=cols,startangle=90,shadow=True)\n",
    "plt.legend(benefits.items())\n",
    "plt.title('benefits')\n",
    "plt.show()"
   ]
  },
  {
   "cell_type": "code",
   "execution_count": 15,
   "metadata": {
    "collapsed": false
   },
   "outputs": [
    {
     "data": {
      "text/plain": [
       "0    Not sure\n",
       "1          No\n",
       "2          No\n",
       "3         Yes\n",
       "4          No\n",
       "Name: care_options, dtype: object"
      ]
     },
     "execution_count": 15,
     "metadata": {},
     "output_type": "execute_result"
    }
   ],
   "source": [
    "col.iloc[:,13].head()"
   ]
  },
  {
   "cell_type": "code",
   "execution_count": 17,
   "metadata": {
    "collapsed": false
   },
   "outputs": [
    {
     "name": "stdout",
     "output_type": "stream",
     "text": [
      "{'Not sure': 314, 'No': 501, 'Yes': 444}\n"
     ]
    }
   ],
   "source": [
    "care_options_list=list(col.iloc[:,13])\n",
    "care_options=dict()\n",
    "for i in   care_options_list:\n",
    "    if i not in  care_options:\n",
    "          care_options[i]=1\n",
    "    else:\n",
    "          care_options[i]= care_options[i]+1\n",
    "\n",
    "print(care_options)"
   ]
  },
  {
   "cell_type": "code",
   "execution_count": 19,
   "metadata": {
    "collapsed": false
   },
   "outputs": [
    {
     "data": {
      "image/png": "[encoded data removed]",
      "text/plain": [
       "<matplotlib.figure.Figure at 0x21a450f65f8>"
      ]
     },
     "metadata": {},
     "output_type": "display_data"
    }
   ],
   "source": [
    "activities=list(care_options.keys())\n",
    "slices=list(care_options.values())\n",
    "cols=['c','m','r']\n",
    "fig_size = plt.rcParams[\"figure.figsize\"]\n",
    "fig_size[0]=3\n",
    "fig_size[1]=3\n",
    "plt.rcParams[\"figure.figsize\"] = fig_size     \n",
    "                 \n",
    "plt.pie(slices,labels=None,colors=cols,startangle=90,shadow=True)\n",
    "plt.legend(care_options.items())\n",
    "plt.title('care_options')\n",
    "plt.show()"
   ]
  },
  {
   "cell_type": "code",
   "execution_count": 20,
   "metadata": {
    "collapsed": false
   },
   "outputs": [
    {
     "data": {
      "text/plain": [
       "0            No\n",
       "1    Don't know\n",
       "2            No\n",
       "3            No\n",
       "4    Don't know\n",
       "Name: wellness_program, dtype: object"
      ]
     },
     "execution_count": 20,
     "metadata": {},
     "output_type": "execute_result"
    }
   ],
   "source": [
    "col.iloc[:,14].head()"
   ]
  },
  {
   "cell_type": "code",
   "execution_count": 21,
   "metadata": {
    "collapsed": false
   },
   "outputs": [
    {
     "name": "stdout",
     "output_type": "stream",
     "text": [
      "{'No': 842, \"Don't know\": 188, 'Yes': 229}\n"
     ]
    }
   ],
   "source": [
    "wellness_program_list=list(col.iloc[:,14])\n",
    "wellness_program=dict()\n",
    "for i in   wellness_program_list:\n",
    "    if i not in  wellness_program:\n",
    "          wellness_program[i]=1\n",
    "    else:\n",
    "         wellness_program[i]= wellness_program[i]+1\n",
    "\n",
    "print(wellness_program)"
   ]
  },
  {
   "cell_type": "code",
   "execution_count": 22,
   "metadata": {
    "collapsed": false
   },
   "outputs": [
    {
     "data": {
      "image/png": "[encoded data removed]",
      "text/plain": [
       "<matplotlib.figure.Figure at 0x21a4520d0f0>"
      ]
     },
     "metadata": {},
     "output_type": "display_data"
    }
   ],
   "source": [
    "activities=list(wellness_program.keys())\n",
    "slices=list(wellness_program.values())\n",
    "cols=['c','m','r']\n",
    "fig_size = plt.rcParams[\"figure.figsize\"]\n",
    "fig_size[0]=3\n",
    "fig_size[1]=3\n",
    "plt.rcParams[\"figure.figsize\"] = fig_size     \n",
    "                 \n",
    "plt.pie(slices,labels=None,colors=cols,startangle=90,shadow=True)\n",
    "plt.legend(wellness_program.items())\n",
    "plt.title('wellness_program')\n",
    "plt.show()"
   ]
  },
  {
   "cell_type": "code",
   "execution_count": 23,
   "metadata": {
    "collapsed": false
   },
   "outputs": [
    {
     "data": {
      "text/plain": [
       "0           Yes\n",
       "1    Don't know\n",
       "2            No\n",
       "3            No\n",
       "4    Don't know\n",
       "Name: seek_help, dtype: object"
      ]
     },
     "execution_count": 23,
     "metadata": {},
     "output_type": "execute_result"
    }
   ],
   "source": [
    "col.iloc[:,15].head()"
   ]
  },
  {
   "cell_type": "code",
   "execution_count": 24,
   "metadata": {
    "collapsed": false
   },
   "outputs": [
    {
     "name": "stdout",
     "output_type": "stream",
     "text": [
      "{'Yes': 250, \"Don't know\": 363, 'No': 646}\n"
     ]
    }
   ],
   "source": [
    "seek_help_list=list(col.iloc[:,15])\n",
    "seek_help=dict()\n",
    "for i in   seek_help_list:\n",
    "    if i not in  seek_help:\n",
    "          seek_help[i]=1\n",
    "    else:\n",
    "          seek_help[i]= seek_help[i]+1\n",
    "\n",
    "print(seek_help)"
   ]
  },
  {
   "cell_type": "code",
   "execution_count": 25,
   "metadata": {
    "collapsed": false
   },
   "outputs": [
    {
     "data": {
      "image/png": "[encoded data removed]",
      "text/plain": [
       "<matplotlib.figure.Figure at 0x21a45432d68>"
      ]
     },
     "metadata": {},
     "output_type": "display_data"
    }
   ],
   "source": [
    "activities=list(seek_help.keys())\n",
    "slices=list(seek_help.values())\n",
    "cols=['c','m','r']\n",
    "fig_size = plt.rcParams[\"figure.figsize\"]\n",
    "fig_size[0]=3\n",
    "fig_size[1]=3\n",
    "plt.rcParams[\"figure.figsize\"] = fig_size     \n",
    "                 \n",
    "plt.pie(slices,labels=None,colors=cols,startangle=90,shadow=True)\n",
    "plt.legend(seek_help.items())\n",
    "plt.title('seek_help')\n",
    "plt.show()"
   ]
  },
  {
   "cell_type": "code",
   "execution_count": null,
   "metadata": {
    "collapsed": true
   },
   "outputs": [],
   "source": []
  }
 ],
 "metadata": {
  "kernelspec": {
   "display_name": "Python 3",
   "language": "python",
   "name": "python3"
  },
  "language_info": {
   "codemirror_mode": {
    "name": "ipython",
    "version": 3
   },
   "file_extension": ".py",
   "mimetype": "text/x-python",
   "name": "python",
   "nbconvert_exporter": "python",
   "pygments_lexer": "ipython3",
   "version": "3.6.0"
  }
 },
 "nbformat": 4,
 "nbformat_minor": 2
}
